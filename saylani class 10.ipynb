{
 "cells": [
  {
   "cell_type": "markdown",
   "id": "5937c7e1",
   "metadata": {},
   "source": [
    "# ERROR HANDLING IN PYTHON"
   ]
  },
  {
   "cell_type": "markdown",
   "id": "260523c6",
   "metadata": {},
   "source": [
    "*LOGICAL ERROR"
   ]
  },
  {
   "cell_type": "markdown",
   "id": "1c2e1aa2",
   "metadata": {},
   "source": [
    "*SYNTAX ERORR"
   ]
  },
  {
   "cell_type": "markdown",
   "id": "8d192ce2",
   "metadata": {},
   "source": [
    "*RUN-TIME ERROR"
   ]
  },
  {
   "cell_type": "code",
   "execution_count": 3,
   "id": "995fd0bd",
   "metadata": {
    "collapsed": true
   },
   "outputs": [
    {
     "name": "stdout",
     "output_type": "stream",
     "text": [
      "line no 1\n",
      "line no 2\n"
     ]
    }
   ],
   "source": [
    "print(\"line no 1\")\n",
    "print(\"line no 2\")\n",
    "\n",
    "\n",
    "\n"
   ]
  },
  {
   "cell_type": "markdown",
   "id": "f273ebac",
   "metadata": {},
   "source": [
    "now we handle run time error using\n",
    " *try:\n",
    "        *if u think any line where error an be  generate you shoud write this block\n",
    "*except:\n",
    "    *you can define any error class here "
   ]
  },
  {
   "cell_type": "code",
   "execution_count": 4,
   "id": "d6b8420e",
   "metadata": {},
   "outputs": [
    {
     "name": "stdout",
     "output_type": "stream",
     "text": [
      " you cant divide by zero\n"
     ]
    }
   ],
   "source": [
    "try:\n",
    "    print(2/0)\n",
    "except(ZeroDivisionError):\n",
    "    print( \" you cant divide by zero\")"
   ]
  },
  {
   "cell_type": "code",
   "execution_count": 7,
   "id": "06f11809",
   "metadata": {},
   "outputs": [
    {
     "name": "stdout",
     "output_type": "stream",
     "text": [
      "something is wrong \n"
     ]
    }
   ],
   "source": [
    "l = [1,2,3,4]\n",
    "try:\n",
    "    print(l[6])\n",
    "except(IndexError):\n",
    "    print(\"something is wrong \")"
   ]
  },
  {
   "cell_type": "code",
   "execution_count": 10,
   "id": "f262bfd1",
   "metadata": {},
   "outputs": [
    {
     "name": "stdout",
     "output_type": "stream",
     "text": [
      "you cant be divided by zero\n",
      "index number can not be find\n"
     ]
    }
   ],
   "source": [
    "#a=(2/0)\n",
    "try:\n",
    "    print(2/0)\n",
    "except(ZeroDivisionError):\n",
    "    print(\"you cant be divided by zero\")\n",
    "\n",
    "l = [1,2,3,4]\n",
    "try:\n",
    "    print(l[6])\n",
    "except(IndexError):\n",
    "    print(\"index number can not be find\")\n",
    "    \n",
    "\n"
   ]
  },
  {
   "cell_type": "markdown",
   "id": "d146644c",
   "metadata": {},
   "source": [
    "# Handling Dynamic Error  class error withh Dynamic Message"
   ]
  },
  {
   "cell_type": "code",
   "execution_count": 11,
   "id": "c027892d",
   "metadata": {},
   "outputs": [
    {
     "ename": "SyntaxError",
     "evalue": "unexpected EOF while parsing (264116543.py, line 5)",
     "output_type": "error",
     "traceback": [
      "\u001b[1;36m  Input \u001b[1;32mIn [11]\u001b[1;36m\u001b[0m\n\u001b[1;33m    open('abc',txt)\u001b[0m\n\u001b[1;37m                   ^\u001b[0m\n\u001b[1;31mSyntaxError\u001b[0m\u001b[1;31m:\u001b[0m unexpected EOF while parsing\n"
     ]
    }
   ],
   "source": [
    "l = [1,2,3,4]\n",
    "try:\n",
    "    print(2/0)\n",
    "    print(l[34])\n",
    "    open('abc',txt)"
   ]
  },
  {
   "cell_type": "code",
   "execution_count": 34,
   "id": "e5e23246",
   "metadata": {},
   "outputs": [
    {
     "name": "stdout",
     "output_type": "stream",
     "text": [
      "32\n",
      "kashmir bnega pakistan and pakistan bnega DHA aur DHA bnega Korangi aur Korangi bnega saddar KAISA DIYA\n"
     ]
    }
   ],
   "source": [
    "code = \"\"\"\n",
    "a = 16\n",
    "b = a\n",
    "print(a+b)\"\"\"\n",
    "try:\n",
    "    exec(code)\n",
    "except Exception as s:\n",
    "    print(s)\n",
    "    \n",
    "print(\"kashmir bnega pakistan and pakistan bnega DHA aur DHA bnega Korangi aur Korangi bnega saddar \" + \"KAISA DIYA\")"
   ]
  },
  {
   "cell_type": "code",
   "execution_count": 40,
   "id": "8b3005e1",
   "metadata": {},
   "outputs": [
    {
     "name": "stdout",
     "output_type": "stream",
     "text": [
      "line 1\n",
      "line 2\n",
      "1.0\n",
      "you are good pugramer\n",
      "har haal me chalega\n",
      "last line\n"
     ]
    }
   ],
   "source": [
    "print(\"line 1\")\n",
    "print(\"line 2\")\n",
    "\n",
    "try:\n",
    "    print(2/2)\n",
    "except Exception as e:\n",
    "    print(e)\n",
    "else:\n",
    "    print(\"you are good pugramer\")\n",
    "finally:\n",
    "    print(\"har haal me chalega\")\n",
    "    \n",
    "print(\"last line\")"
   ]
  },
  {
   "cell_type": "code",
   "execution_count": 45,
   "id": "ea4af17d",
   "metadata": {},
   "outputs": [
    {
     "name": "stdout",
     "output_type": "stream",
     "text": [
      "2.0\n",
      "2\n",
      "0.0\n",
      "name 'Print' is not defined\n"
     ]
    }
   ],
   "source": [
    "try:\n",
    "    print(2/1)\n",
    "    print(1+1)\n",
    "    print(0/10)\n",
    "    Print(ASAD)\n",
    "except Exception as a:\n",
    "    print(a)"
   ]
  },
  {
   "cell_type": "code",
   "execution_count": 47,
   "id": "85da66fa",
   "metadata": {},
   "outputs": [
    {
     "name": "stdout",
     "output_type": "stream",
     "text": [
      "line 1\n",
      "line2\n",
      "division by zero\n"
     ]
    }
   ],
   "source": [
    "print(\"line 1\")\n",
    "print(\"line2\")\n",
    "try:\n",
    "    print(2/0)\n",
    "except Exception as e:\n",
    "    print(e)"
   ]
  },
  {
   "cell_type": "code",
   "execution_count": null,
   "id": "4ce21992",
   "metadata": {},
   "outputs": [],
   "source": [
    "print(\"line1\")\n",
    "print(\"line 3\")\n",
    "try:\n",
    "    print(2/0)\n"
   ]
  }
 ],
 "metadata": {
  "kernelspec": {
   "display_name": "Python 3 (ipykernel)",
   "language": "python",
   "name": "python3"
  },
  "language_info": {
   "codemirror_mode": {
    "name": "ipython",
    "version": 3
   },
   "file_extension": ".py",
   "mimetype": "text/x-python",
   "name": "python",
   "nbconvert_exporter": "python",
   "pygments_lexer": "ipython3",
   "version": "3.9.12"
  }
 },
 "nbformat": 4,
 "nbformat_minor": 5
}
